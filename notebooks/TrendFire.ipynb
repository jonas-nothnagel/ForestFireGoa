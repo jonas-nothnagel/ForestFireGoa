{
 "cells": [
  {
   "cell_type": "code",
   "execution_count": 1,
   "metadata": {},
   "outputs": [],
   "source": [
    "import ee\n",
    "import geemap\n",
    "import os\n",
    "import datetime\n",
    "import matplotlib.pyplot as plt\n",
    "import numpy as np\n",
    "import pandas as pd\n",
    "import geopandas as gpd\n",
    "from tqdm import tqdm"
   ]
  },
  {
   "cell_type": "code",
   "execution_count": 2,
   "metadata": {},
   "outputs": [
    {
     "data": {
      "text/html": [
       "\n",
       "            <style>\n",
       "                .geemap-dark {\n",
       "                    --jp-widgets-color: white;\n",
       "                    --jp-widgets-label-color: white;\n",
       "                    --jp-ui-font-color1: white;\n",
       "                    --jp-layout-color2: #454545;\n",
       "                    background-color: #383838;\n",
       "                }\n",
       "\n",
       "                .geemap-dark .jupyter-button {\n",
       "                    --jp-layout-color3: #383838;\n",
       "                }\n",
       "\n",
       "                .geemap-colab {\n",
       "                    background-color: var(--colab-primary-surface-color, white);\n",
       "                }\n",
       "\n",
       "                .geemap-colab .jupyter-button {\n",
       "                    --jp-layout-color3: var(--colab-primary-surface-color, white);\n",
       "                }\n",
       "            </style>\n",
       "            "
      ],
      "text/plain": [
       "<IPython.core.display.HTML object>"
      ]
     },
     "metadata": {},
     "output_type": "display_data"
    },
    {
     "name": "stdout",
     "output_type": "stream",
     "text": [
      "Earth Engine API initialized successfully.\n"
     ]
    }
   ],
   "source": [
    "# Initialize the Earth Engine API\n",
    "try:\n",
    "    ee.Authenticate()\n",
    "    ee.Initialize()\n",
    "    print(\"Earth Engine API initialized successfully.\")\n",
    "except Exception as e:\n",
    "    print(f\"Error initializing Earth Engine API: {e}\")\n",
    "    print(\"Make sure you have authenticated with Earth Engine using ee.Authenticate()\")\n"
   ]
  },
  {
   "cell_type": "code",
   "execution_count": 3,
   "metadata": {},
   "outputs": [
    {
     "data": {
      "text/html": [
       "\n",
       "            <style>\n",
       "                .geemap-dark {\n",
       "                    --jp-widgets-color: white;\n",
       "                    --jp-widgets-label-color: white;\n",
       "                    --jp-ui-font-color1: white;\n",
       "                    --jp-layout-color2: #454545;\n",
       "                    background-color: #383838;\n",
       "                }\n",
       "\n",
       "                .geemap-dark .jupyter-button {\n",
       "                    --jp-layout-color3: #383838;\n",
       "                }\n",
       "\n",
       "                .geemap-colab {\n",
       "                    background-color: var(--colab-primary-surface-color, white);\n",
       "                }\n",
       "\n",
       "                .geemap-colab .jupyter-button {\n",
       "                    --jp-layout-color3: var(--colab-primary-surface-color, white);\n",
       "                }\n",
       "            </style>\n",
       "            "
      ],
      "text/plain": [
       "<IPython.core.display.HTML object>"
      ]
     },
     "metadata": {},
     "output_type": "display_data"
    }
   ],
   "source": [
    "def get_goa_boundary():\n",
    "    \"\"\"Get the administrative boundary for Goa, India.\"\"\"\n",
    "    try:\n",
    "        # Get the Goa district boundary from Earth Engine's administrative boundaries\n",
    "        goa = ee.FeatureCollection(\"FAO/GAUL/2015/level1\").filter(ee.Filter.eq('ADM1_NAME', 'Goa'))\n",
    "        return goa.geometry()\n",
    "    except Exception as e:\n",
    "        print(f\"Could not load Goa boundary from Earth Engine: {e}\")\n",
    "        \n",
    "        # Try to load from shapefile as fallback\n",
    "        try:\n",
    "            boundary_path = os.path.join('data', 'pa_boundary.shp')\n",
    "            if os.path.exists(boundary_path):\n",
    "                boundary_gdf = gpd.read_file(boundary_path)\n",
    "                # Convert to GeoJSON\n",
    "                boundary_geojson = boundary_gdf.geometry.__geo_interface__\n",
    "                # Create an EE geometry\n",
    "                return ee.Geometry.Polygon(boundary_geojson['features'][0]['geometry']['coordinates'])\n",
    "        except Exception as e:\n",
    "            print(f\"Could not load boundary from shapefile: {e}\")\n",
    "        \n",
    "        # Manual definition as last resort\n",
    "        goa_coords = [\n",
    "            [73.6765, 15.7560],\n",
    "            [74.3161, 15.7560],\n",
    "            [74.3161, 14.8922],\n",
    "            [73.6765, 14.8922],\n",
    "            [73.6765, 15.7560]\n",
    "        ]\n",
    "        return ee.Geometry.Polygon(goa_coords)"
   ]
  },
  {
   "cell_type": "code",
   "execution_count": 4,
   "metadata": {},
   "outputs": [
    {
     "data": {
      "text/html": [
       "\n",
       "            <style>\n",
       "                .geemap-dark {\n",
       "                    --jp-widgets-color: white;\n",
       "                    --jp-widgets-label-color: white;\n",
       "                    --jp-ui-font-color1: white;\n",
       "                    --jp-layout-color2: #454545;\n",
       "                    background-color: #383838;\n",
       "                }\n",
       "\n",
       "                .geemap-dark .jupyter-button {\n",
       "                    --jp-layout-color3: #383838;\n",
       "                }\n",
       "\n",
       "                .geemap-colab {\n",
       "                    background-color: var(--colab-primary-surface-color, white);\n",
       "                }\n",
       "\n",
       "                .geemap-colab .jupyter-button {\n",
       "                    --jp-layout-color3: var(--colab-primary-surface-color, white);\n",
       "                }\n",
       "            </style>\n",
       "            "
      ],
      "text/plain": [
       "<IPython.core.display.HTML object>"
      ]
     },
     "metadata": {},
     "output_type": "display_data"
    }
   ],
   "source": [
    "def maskL8sr(image):\n",
    "    \"\"\"\n",
    "    Mask clouds and scale pixel values for Landsat 8 SR imagery.\n",
    "    \"\"\"\n",
    "    # Get QA band\n",
    "    qa = image.select('QA_PIXEL')\n",
    "    \n",
    "    # Bits 3 and 5 are cloud shadow and cloud, respectively\n",
    "    cloud_shadow_bit_mask = 1 << 3\n",
    "    clouds_bit_mask = 1 << 5\n",
    "    \n",
    "    # Both flags should be set to zero, indicating clear conditions\n",
    "    mask = qa.bitwiseAnd(cloud_shadow_bit_mask).eq(0).And(\n",
    "           qa.bitwiseAnd(clouds_bit_mask).eq(0))\n",
    "    \n",
    "    # Scale the optical bands\n",
    "    optical_bands = image.select('SR_B.').multiply(0.0000275).add(-0.2)\n",
    "    \n",
    "    # Scale the thermal bands\n",
    "    thermal_bands = image.select('ST_B.*').multiply(0.00341802).add(149.0)\n",
    "    \n",
    "    # Return the masked and scaled image\n",
    "    return image.select(['QA_.*']).addBands(optical_bands).addBands(thermal_bands).updateMask(mask)"
   ]
  },
  {
   "cell_type": "code",
   "execution_count": 5,
   "metadata": {},
   "outputs": [
    {
     "data": {
      "text/html": [
       "\n",
       "            <style>\n",
       "                .geemap-dark {\n",
       "                    --jp-widgets-color: white;\n",
       "                    --jp-widgets-label-color: white;\n",
       "                    --jp-ui-font-color1: white;\n",
       "                    --jp-layout-color2: #454545;\n",
       "                    background-color: #383838;\n",
       "                }\n",
       "\n",
       "                .geemap-dark .jupyter-button {\n",
       "                    --jp-layout-color3: #383838;\n",
       "                }\n",
       "\n",
       "                .geemap-colab {\n",
       "                    background-color: var(--colab-primary-surface-color, white);\n",
       "                }\n",
       "\n",
       "                .geemap-colab .jupyter-button {\n",
       "                    --jp-layout-color3: var(--colab-primary-surface-color, white);\n",
       "                }\n",
       "            </style>\n",
       "            "
      ],
      "text/plain": [
       "<IPython.core.display.HTML object>"
      ]
     },
     "metadata": {},
     "output_type": "display_data"
    }
   ],
   "source": [
    "def addIndices(image):\n",
    "    \"\"\"\n",
    "    Calculate various spectral indices and add them as bands to the image.\n",
    "    Match JavaScript version exactly.\n",
    "    \"\"\"\n",
    "    # NDVI (Normalized Difference Vegetation Index)\n",
    "    ndvi = image.normalizedDifference(['SR_B5', 'SR_B4']).rename('ndvi')\n",
    "    \n",
    "    # MIRBI (Mid-Infrared Burn Index)\n",
    "    mirbi = image.expression(\n",
    "        '10 * swir1 - 9.8 * swir2 + 2',\n",
    "        {\n",
    "            'swir1': image.select('SR_B6'),\n",
    "            'swir2': image.select('SR_B7')\n",
    "        }\n",
    "    ).rename('mirbi')\n",
    "    \n",
    "    # NDFI (Normalized Difference Fire Index) - Corrected to match JS\n",
    "    ndfi = image.normalizedDifference(['ST_B10', 'SR_B6']).rename('ndfi')\n",
    "    \n",
    "    # EVI (Enhanced Vegetation Index)\n",
    "    evi = image.expression(\n",
    "        '2.5 * ((NIR - RED) / (NIR + 6 * RED - 7.5 * BLUE + 1))',\n",
    "        {\n",
    "            'NIR': image.select('SR_B5'),\n",
    "            'RED': image.select('SR_B4'),\n",
    "            'BLUE': image.select('SR_B2')\n",
    "        }\n",
    "    ).rename('evi')\n",
    "    \n",
    "    # BSI (Bare Soil Index)\n",
    "    bsi = image.expression(\n",
    "        '((X + Y) - (A + B)) / ((X + Y) + (A + B))',\n",
    "        {\n",
    "            'X': image.select('SR_B6'),\n",
    "            'Y': image.select('SR_B4'),\n",
    "            'A': image.select('SR_B5'),\n",
    "            'B': image.select('SR_B2')\n",
    "        }\n",
    "    ).rename('bsi')\n",
    "    \n",
    "    # NDMI (Normalized Difference Moisture Index)\n",
    "    ndmi = image.normalizedDifference(['SR_B5', 'SR_B6']).rename('ndmi')\n",
    "    \n",
    "    # NBR (Normalized Burn Ratio)\n",
    "    nbr = image.normalizedDifference(['SR_B5', 'SR_B7']).rename('nbr')\n",
    "    \n",
    "    # NBR2 (Normalized Burn Ratio 2)\n",
    "    nbr2 = image.normalizedDifference(['SR_B6', 'SR_B7']).rename('nbr2')\n",
    "    \n",
    "    # MSAVI (Modified Soil Adjusted Vegetation Index)\n",
    "    msavi = image.expression(\n",
    "        '(2 * NIR + 1 - sqrt((2 * NIR + 1) ** 2 - 8 * (NIR - RED))) / 2',\n",
    "        {\n",
    "            'NIR': image.select('SR_B5'),\n",
    "            'RED': image.select('SR_B4')\n",
    "        }\n",
    "    ).rename('msavi')\n",
    "    \n",
    "    return image.addBands([ndvi, evi, msavi, mirbi, ndmi, ndfi, nbr, nbr2, bsi])"
   ]
  },
  {
   "cell_type": "code",
   "execution_count": 6,
   "metadata": {},
   "outputs": [
    {
     "data": {
      "text/html": [
       "\n",
       "            <style>\n",
       "                .geemap-dark {\n",
       "                    --jp-widgets-color: white;\n",
       "                    --jp-widgets-label-color: white;\n",
       "                    --jp-ui-font-color1: white;\n",
       "                    --jp-layout-color2: #454545;\n",
       "                    background-color: #383838;\n",
       "                }\n",
       "\n",
       "                .geemap-dark .jupyter-button {\n",
       "                    --jp-layout-color3: #383838;\n",
       "                }\n",
       "\n",
       "                .geemap-colab {\n",
       "                    background-color: var(--colab-primary-surface-color, white);\n",
       "                }\n",
       "\n",
       "                .geemap-colab .jupyter-button {\n",
       "                    --jp-layout-color3: var(--colab-primary-surface-color, white);\n",
       "                }\n",
       "            </style>\n",
       "            "
      ],
      "text/plain": [
       "<IPython.core.display.HTML object>"
      ]
     },
     "metadata": {},
     "output_type": "display_data"
    }
   ],
   "source": [
    "# Function to calculate SMI (Soil Moisture Index)\n",
    "def calculateSMI(image):\n",
    "    \"\"\"\n",
    "    Calculate Soil Moisture Index (SMI) from Landsat data.\n",
    "    \"\"\"\n",
    "    Ts = image.select('ST_B10')\n",
    "    ndvi = image.select('ndvi')\n",
    "    \n",
    "    # Apply the SMI calculation\n",
    "    smi = image.expression(\n",
    "        '(Ts_max - Ts) / (Ts_max - Ts_min)',\n",
    "        {\n",
    "            'Ts': Ts,\n",
    "            'Ts_max': Ts.reduceRegion(\n",
    "                reducer=ee.Reducer.max(),\n",
    "                geometry=image.geometry(),\n",
    "                scale=30,\n",
    "                maxPixels=1e9\n",
    "            ).get('ST_B10'),\n",
    "            'Ts_min': Ts.reduceRegion(\n",
    "                reducer=ee.Reducer.min(),\n",
    "                geometry=image.geometry(),\n",
    "                scale=30,\n",
    "                maxPixels=1e9\n",
    "            ).get('ST_B10')\n",
    "        }\n",
    "    ).rename('smi')\n",
    "    \n",
    "    return image.addBands(smi)"
   ]
  },
  {
   "cell_type": "code",
   "execution_count": 7,
   "metadata": {},
   "outputs": [
    {
     "data": {
      "text/html": [
       "\n",
       "            <style>\n",
       "                .geemap-dark {\n",
       "                    --jp-widgets-color: white;\n",
       "                    --jp-widgets-label-color: white;\n",
       "                    --jp-ui-font-color1: white;\n",
       "                    --jp-layout-color2: #454545;\n",
       "                    background-color: #383838;\n",
       "                }\n",
       "\n",
       "                .geemap-dark .jupyter-button {\n",
       "                    --jp-layout-color3: #383838;\n",
       "                }\n",
       "\n",
       "                .geemap-colab {\n",
       "                    background-color: var(--colab-primary-surface-color, white);\n",
       "                }\n",
       "\n",
       "                .geemap-colab .jupyter-button {\n",
       "                    --jp-layout-color3: var(--colab-primary-surface-color, white);\n",
       "                }\n",
       "            </style>\n",
       "            "
      ],
      "text/plain": [
       "<IPython.core.display.HTML object>"
      ]
     },
     "metadata": {},
     "output_type": "display_data"
    }
   ],
   "source": [
    "def process_landsat_trends(goa, start_date='2013-03-20', end_date='2023-02-28'):\n",
    "    \"\"\"\n",
    "    Process Landsat 8 data to calculate vegetation and burn index trends.\n",
    "    Fixed to handle date calculations properly.\n",
    "    \n",
    "    Args:\n",
    "        goa: Earth Engine geometry for Goa\n",
    "        start_date: Start date for analysis\n",
    "        end_date: End date for analysis\n",
    "        \n",
    "    Returns:\n",
    "        Tuple of (trend image, Landsat collection)\n",
    "    \"\"\"\n",
    "    print(f\"Processing Landsat 8 data for {start_date} to {end_date}...\")\n",
    "    \n",
    "    # Convert dates to ee.Date objects\n",
    "    ee_start_date = ee.Date(start_date)\n",
    "    ee_end_date = ee.Date(end_date)\n",
    "    \n",
    "    # Load Landsat 8 collection\n",
    "    ls8 = ee.ImageCollection(\"LANDSAT/LC08/C02/T1_L2\") \\\n",
    "        .filterDate(start_date, end_date) \\\n",
    "        .filterBounds(goa)\n",
    "    \n",
    "    # Apply cloud masking and add indices\n",
    "    ls8_masked = ls8.map(maskL8sr).map(addIndices)\n",
    "    \n",
    "    # Filter out images with too many clouds\n",
    "    ls8_filtered = ls8_masked.filter(ee.Filter.lt('CLOUD_COVER', 80))\n",
    "    \n",
    "    # Add a time band (fixed version)\n",
    "    def add_time_band(image):\n",
    "        # Get image timestamp\n",
    "        date = ee.Date(image.get('system:time_start'))\n",
    "        \n",
    "        # Get the year (server-side)\n",
    "        year = date.get('year')\n",
    "        \n",
    "        # Calculate days since the start of the analysis (safer approach)\n",
    "        days_since_start = date.difference(ee_start_date, 'day')\n",
    "        \n",
    "        # Normalize to years (for better coefficient interpretation)\n",
    "        years_since_start = days_since_start.divide(365)\n",
    "        \n",
    "        # Create an image with this value\n",
    "        time_band = ee.Image.constant(years_since_start).float().rename('t')\n",
    "        \n",
    "        # Add date info as properties (for debugging)\n",
    "        return image.addBands(time_band).set({\n",
    "            'year': year,\n",
    "            'days_since_start': days_since_start,\n",
    "            'years_since_start': years_since_start\n",
    "        })\n",
    "    \n",
    "    # Add time bands\n",
    "    ls8_time = ls8_filtered.map(add_time_band)\n",
    "    \n",
    "    # Define the bands to calculate trends for\n",
    "    trend_bands = ['ndvi', 'evi', 'msavi', 'mirbi', 'ndmi', 'ndfi', 'nbr', 'nbr2', 'bsi']\n",
    "    \n",
    "    # Calculate trends for each band\n",
    "    trends = {}\n",
    "    \n",
    "    for band in trend_bands:\n",
    "        print(f\"Calculating trend for {band}...\")\n",
    "        \n",
    "        # Define the dependent and independent variables\n",
    "        trend_x = 't'\n",
    "        trend_y = band\n",
    "        \n",
    "        # Calculate trend (slope and intercept)\n",
    "        trend = ls8_time.select([trend_x, trend_y]).reduce(\n",
    "            ee.Reducer.linearFit()\n",
    "        )\n",
    "        \n",
    "        # Rename the bands\n",
    "        trend = trend.select(['scale'], [f'{band}_Slope'])\n",
    "        \n",
    "        # Store in dictionary\n",
    "        trends[band] = trend\n",
    "    \n",
    "    # Merge all trend images\n",
    "    all_trends = ee.Image.cat(list(trends.values()))\n",
    "    \n",
    "    print(\"Landsat trend calculation complete.\")\n",
    "    \n",
    "    return all_trends, ls8_filtered"
   ]
  },
  {
   "cell_type": "code",
   "execution_count": 8,
   "metadata": {},
   "outputs": [
    {
     "data": {
      "text/html": [
       "\n",
       "            <style>\n",
       "                .geemap-dark {\n",
       "                    --jp-widgets-color: white;\n",
       "                    --jp-widgets-label-color: white;\n",
       "                    --jp-ui-font-color1: white;\n",
       "                    --jp-layout-color2: #454545;\n",
       "                    background-color: #383838;\n",
       "                }\n",
       "\n",
       "                .geemap-dark .jupyter-button {\n",
       "                    --jp-layout-color3: #383838;\n",
       "                }\n",
       "\n",
       "                .geemap-colab {\n",
       "                    background-color: var(--colab-primary-surface-color, white);\n",
       "                }\n",
       "\n",
       "                .geemap-colab .jupyter-button {\n",
       "                    --jp-layout-color3: var(--colab-primary-surface-color, white);\n",
       "                }\n",
       "            </style>\n",
       "            "
      ],
      "text/plain": [
       "<IPython.core.display.HTML object>"
      ]
     },
     "metadata": {},
     "output_type": "display_data"
    }
   ],
   "source": [
    "# Function to process CHIRPS precipitation data\n",
    "def process_chirps_trends(goa, start_date='2013-01-01', end_date='2022-12-31'):\n",
    "    \"\"\"\n",
    "    Process CHIRPS precipitation data and calculate rainfall trends.\n",
    "    \"\"\"\n",
    "    print(\"Processing CHIRPS precipitation data and calculating trends...\")\n",
    "    \n",
    "    # Load CHIRPS data\n",
    "    chirps = ee.ImageCollection('UCSB-CHG/CHIRPS/DAILY') \\\n",
    "        .filterDate(start_date, end_date) \\\n",
    "        .filterBounds(goa)\n",
    "    \n",
    "    # Function to compute the yearly sum\n",
    "    def createYearlySum(year):\n",
    "        # Filter for the specific year\n",
    "        year_filter = chirps.filter(ee.Filter.calendarRange(year, year, 'year'))\n",
    "        \n",
    "        # Create the yearly sum\n",
    "        yearly_sum = year_filter.sum().clip(goa)\n",
    "        \n",
    "        # Add the year as a property\n",
    "        return yearly_sum.set('year', year) \\\n",
    "                         .set('system:time_start', ee.Date.fromYMD(year, 1, 1).millis()) \\\n",
    "                         .rename('precipitation')\n",
    "    \n",
    "    # Create a list of yearly sums\n",
    "    years = ee.List.sequence(int(start_date[:4]), int(end_date[:4]))\n",
    "    yearly_sums = years.map(createYearlySum)\n",
    "    \n",
    "    # Convert to ImageCollection\n",
    "    yearly_sums_collection = ee.ImageCollection.fromImages(yearly_sums)\n",
    "    \n",
    "    # Calculate trend\n",
    "    def addTime(image):\n",
    "        return image.addBands(image.metadata('system:time_start').divide(1000 * 60 * 60 * 24 * 365).rename('t'))\n",
    "    \n",
    "    collection_with_time = yearly_sums_collection.map(addTime)\n",
    "    \n",
    "    # Calculate linear regression\n",
    "    trend = collection_with_time.select(['t', 'precipitation']).reduce(ee.Reducer.linearFit())\n",
    "    \n",
    "    # Rename bands\n",
    "    rain_trend = trend.select(['scale'], ['rain_trend'])\n",
    "    \n",
    "    return rain_trend, yearly_sums_collection\n"
   ]
  },
  {
   "cell_type": "code",
   "execution_count": 9,
   "metadata": {},
   "outputs": [
    {
     "data": {
      "text/html": [
       "\n",
       "            <style>\n",
       "                .geemap-dark {\n",
       "                    --jp-widgets-color: white;\n",
       "                    --jp-widgets-label-color: white;\n",
       "                    --jp-ui-font-color1: white;\n",
       "                    --jp-layout-color2: #454545;\n",
       "                    background-color: #383838;\n",
       "                }\n",
       "\n",
       "                .geemap-dark .jupyter-button {\n",
       "                    --jp-layout-color3: #383838;\n",
       "                }\n",
       "\n",
       "                .geemap-colab {\n",
       "                    background-color: var(--colab-primary-surface-color, white);\n",
       "                }\n",
       "\n",
       "                .geemap-colab .jupyter-button {\n",
       "                    --jp-layout-color3: var(--colab-primary-surface-color, white);\n",
       "                }\n",
       "            </style>\n",
       "            "
      ],
      "text/plain": [
       "<IPython.core.display.HTML object>"
      ]
     },
     "metadata": {},
     "output_type": "display_data"
    }
   ],
   "source": [
    "# Function to process SMAP soil moisture data\n",
    "def process_smap_trends(goa, start_date='2015-04-01', end_date='2022-12-31'):\n",
    "    \"\"\"\n",
    "    Process SMAP soil moisture data and calculate trends.\n",
    "    Note: SMAP data starts from April 2015.\n",
    "    \"\"\"\n",
    "    print(\"Processing SMAP soil moisture data and calculating trends...\")\n",
    "    \n",
    "    # Load SMAP data\n",
    "    smap = ee.ImageCollection('NASA/SMAP/SPL3SMP_E/005') \\\n",
    "        .filterDate(start_date, end_date) \\\n",
    "        .filterBounds(goa) \\\n",
    "        .select(['soil_moisture_am'])\n",
    "    \n",
    "    # Function to compute the yearly mean\n",
    "    def createYearlyMean(year):\n",
    "        year_filter = smap.filter(ee.Filter.calendarRange(year, year, 'year'))\n",
    "        yearly_mean = year_filter.mean().clip(goa)\n",
    "        return yearly_mean.set('year', year) \\\n",
    "                          .set('system:time_start', ee.Date.fromYMD(year, 1, 1).millis()) \\\n",
    "                          .rename('soil_moisture')\n",
    "    \n",
    "    # Create a list of yearly means\n",
    "    years = ee.List.sequence(int(start_date[:4]), int(end_date[:4]))\n",
    "    yearly_means = years.map(createYearlyMean)\n",
    "    \n",
    "    # Convert to ImageCollection\n",
    "    yearly_means_collection = ee.ImageCollection.fromImages(yearly_means)\n",
    "    \n",
    "    # Calculate trend\n",
    "    def addTime(image):\n",
    "        return image.addBands(image.metadata('system:time_start').divide(1000 * 60 * 60 * 24 * 365).rename('t'))\n",
    "    \n",
    "    collection_with_time = yearly_means_collection.map(addTime)\n",
    "    \n",
    "    # Calculate linear regression\n",
    "    trend = collection_with_time.select(['t', 'soil_moisture']).reduce(ee.Reducer.linearFit())\n",
    "    \n",
    "    # Rename bands\n",
    "    sm_trend = trend.select(['scale'], ['sm_trend'])\n",
    "    \n",
    "    return sm_trend, yearly_means_collection"
   ]
  },
  {
   "cell_type": "code",
   "execution_count": 10,
   "metadata": {},
   "outputs": [
    {
     "data": {
      "text/html": [
       "\n",
       "            <style>\n",
       "                .geemap-dark {\n",
       "                    --jp-widgets-color: white;\n",
       "                    --jp-widgets-label-color: white;\n",
       "                    --jp-ui-font-color1: white;\n",
       "                    --jp-layout-color2: #454545;\n",
       "                    background-color: #383838;\n",
       "                }\n",
       "\n",
       "                .geemap-dark .jupyter-button {\n",
       "                    --jp-layout-color3: #383838;\n",
       "                }\n",
       "\n",
       "                .geemap-colab {\n",
       "                    background-color: var(--colab-primary-surface-color, white);\n",
       "                }\n",
       "\n",
       "                .geemap-colab .jupyter-button {\n",
       "                    --jp-layout-color3: var(--colab-primary-surface-color, white);\n",
       "                }\n",
       "            </style>\n",
       "            "
      ],
      "text/plain": [
       "<IPython.core.display.HTML object>"
      ]
     },
     "metadata": {},
     "output_type": "display_data"
    }
   ],
   "source": [
    "def process_era5_trends(goa, start_date='2013-03-20', end_date='2023-02-28'):\n",
    "    \"\"\"\n",
    "    Process ERA5 data to calculate relative humidity trends.\n",
    "    \n",
    "    Args:\n",
    "        goa: Earth Engine geometry for Goa\n",
    "        start_date: Start date for analysis\n",
    "        end_date: End date for analysis\n",
    "        \n",
    "    Returns:\n",
    "        Tuple of (trend image, ERA5 collection)\n",
    "    \"\"\"\n",
    "    print(f\"Processing ERA5 data for {start_date} to {end_date}...\")\n",
    "    \n",
    "    # Load ERA5 data\n",
    "    era5 = ee.ImageCollection(\"ECMWF/ERA5/DAILY\").filterDate(start_date, end_date).filterBounds(goa)\n",
    "    \n",
    "    # Print the first image to debug band names\n",
    "    first_img = era5.first()\n",
    "    print(\"Available ERA5 bands:\", first_img.bandNames().getInfo())\n",
    "    \n",
    "    # Correct band names based on available bands\n",
    "    temp_band = 'mean_2m_air_temperature'  # instead of 'temperature_2m'\n",
    "    dewpoint_band = 'dewpoint_2m_temperature'  # instead of 'dewpoint_temperature_2m'\n",
    "    \n",
    "    # Function to calculate relative humidity from temperature and dew point\n",
    "    def add_rh(image):\n",
    "        # Calculate vapor pressure\n",
    "        # Using Tetens formula\n",
    "        # es = 6.11 * 10.0 ** (7.5 * T / (237.3 + T))\n",
    "        # For dew point: e = 6.11 * 10.0 ** (7.5 * Td / (237.3 + Td))\n",
    "        # RH = e/es * 100\n",
    "        \n",
    "        # Convert from Kelvin to Celsius\n",
    "        t_celsius = image.select(temp_band).subtract(273.15)\n",
    "        td_celsius = image.select(dewpoint_band).subtract(273.15)\n",
    "        \n",
    "        # Calculate saturation vapor pressure (es) at temperature\n",
    "        es = ee.Image(6.11).multiply(ee.Image(10).pow(ee.Image(7.5).multiply(t_celsius).divide(ee.Image(237.3).add(t_celsius))))\n",
    "        \n",
    "        # Calculate actual vapor pressure (e) at dew point\n",
    "        e = ee.Image(6.11).multiply(ee.Image(10).pow(ee.Image(7.5).multiply(td_celsius).divide(ee.Image(237.3).add(td_celsius))))\n",
    "        \n",
    "        # Calculate relative humidity (RH)\n",
    "        rh = e.divide(es).multiply(100).rename('rh')\n",
    "        \n",
    "        return image.addBands(rh)\n",
    "    \n",
    "    # Add RH bands to the collection\n",
    "    era5_rh = era5.map(add_rh)\n",
    "    \n",
    "    # Add a time band\n",
    "    def add_time_band(image):\n",
    "        \"\"\"Add a time band to an image with the decimal year.\"\"\"\n",
    "        # Get image timestamp\n",
    "        date = ee.Date(image.get('system:time_start'))\n",
    "        \n",
    "        # Get the year (server-side)\n",
    "        year = ee.Number(date.get('year'))\n",
    "        \n",
    "        # Calculate start of the year\n",
    "        start_of_year = ee.Date.fromYMD(year, 1, 1)\n",
    "        \n",
    "        # Calculate difference in days (server-side)\n",
    "        days_from_start = date.difference(start_of_year, 'day')\n",
    "        \n",
    "        # Get days in year (accounting for leap years)\n",
    "        days_in_year = ee.Algorithms.If(\n",
    "            ee.Number(year).mod(4).eq(0).And(\n",
    "                ee.Number(year).mod(100).neq(0).Or(\n",
    "                    ee.Number(year).mod(400).eq(0)\n",
    "                )\n",
    "            ),\n",
    "            366,  # Leap year\n",
    "            365   # Non-leap year\n",
    "        )\n",
    "        \n",
    "        # Calculate decimal year\n",
    "        decimal_year = year.add(days_from_start.divide(days_in_year))\n",
    "        \n",
    "        # Create an image with the decimal year\n",
    "        time_band = ee.Image.constant(decimal_year).float().rename('t')\n",
    "        \n",
    "        return image.addBands(time_band)\n",
    "    \n",
    "    # Add time bands\n",
    "    era5_rh_t = era5_rh.map(add_time_band)\n",
    "    \n",
    "    # Calculate RH trend\n",
    "    # Independent variable is 't' (time in decimal years)\n",
    "    # Dependent variable is 'rh'\n",
    "    trend_bands = ['rh']\n",
    "    \n",
    "    # Define the dependent and independent variables\n",
    "    trend_x = 't'\n",
    "    trend_y = 'rh'\n",
    "    \n",
    "    # Calculate trend (slope and intercept)\n",
    "    trend = era5_rh_t.select([trend_x, trend_y]).reduce(\n",
    "        ee.Reducer.linearFit()\n",
    "    )\n",
    "    \n",
    "    # Rename the bands to match the JS version\n",
    "    trend = trend.select(['scale'], ['rh_Slope'])\n",
    "    \n",
    "    print(\"ERA5 RH trend calculation complete.\")\n",
    "    \n",
    "    return trend, era5_rh"
   ]
  },
  {
   "cell_type": "code",
   "execution_count": 11,
   "metadata": {},
   "outputs": [
    {
     "data": {
      "text/html": [
       "\n",
       "            <style>\n",
       "                .geemap-dark {\n",
       "                    --jp-widgets-color: white;\n",
       "                    --jp-widgets-label-color: white;\n",
       "                    --jp-ui-font-color1: white;\n",
       "                    --jp-layout-color2: #454545;\n",
       "                    background-color: #383838;\n",
       "                }\n",
       "\n",
       "                .geemap-dark .jupyter-button {\n",
       "                    --jp-layout-color3: #383838;\n",
       "                }\n",
       "\n",
       "                .geemap-colab {\n",
       "                    background-color: var(--colab-primary-surface-color, white);\n",
       "                }\n",
       "\n",
       "                .geemap-colab .jupyter-button {\n",
       "                    --jp-layout-color3: var(--colab-primary-surface-color, white);\n",
       "                }\n",
       "            </style>\n",
       "            "
      ],
      "text/plain": [
       "<IPython.core.display.HTML object>"
      ]
     },
     "metadata": {},
     "output_type": "display_data"
    }
   ],
   "source": [
    "def resample_image(image, scale=30):\n",
    "    \"\"\"\n",
    "    Resample an image to a consistent resolution and projection.\n",
    "    Fixed to properly handle projections.\n",
    "    \"\"\"\n",
    "    # Check if the image has multiple bands\n",
    "    band_names = image.bandNames()\n",
    "    first_band = ee.String(band_names.get(0))\n",
    "    \n",
    "    # Get projection from the first band\n",
    "    proj = image.select(first_band).projection()\n",
    "    \n",
    "    # Set default projection explicitly\n",
    "    image_with_proj = image.setDefaultProjection(proj)\n",
    "    \n",
    "    # Create a target projection at the desired scale\n",
    "    target_proj = ee.Projection('EPSG:4326').atScale(scale)\n",
    "    \n",
    "    # Now reduce resolution with valid projection\n",
    "    resampled = image_with_proj.reduceResolution(\n",
    "        reducer=ee.Reducer.mean(),\n",
    "        maxPixels=1024\n",
    "    ).reproject(\n",
    "        crs=target_proj\n",
    "    )\n",
    "    \n",
    "    return resampled"
   ]
  },
  {
   "cell_type": "code",
   "execution_count": 12,
   "metadata": {},
   "outputs": [
    {
     "data": {
      "text/html": [
       "\n",
       "            <style>\n",
       "                .geemap-dark {\n",
       "                    --jp-widgets-color: white;\n",
       "                    --jp-widgets-label-color: white;\n",
       "                    --jp-ui-font-color1: white;\n",
       "                    --jp-layout-color2: #454545;\n",
       "                    background-color: #383838;\n",
       "                }\n",
       "\n",
       "                .geemap-dark .jupyter-button {\n",
       "                    --jp-layout-color3: #383838;\n",
       "                }\n",
       "\n",
       "                .geemap-colab {\n",
       "                    background-color: var(--colab-primary-surface-color, white);\n",
       "                }\n",
       "\n",
       "                .geemap-colab .jupyter-button {\n",
       "                    --jp-layout-color3: var(--colab-primary-surface-color, white);\n",
       "                }\n",
       "            </style>\n",
       "            "
      ],
      "text/plain": [
       "<IPython.core.display.HTML object>"
      ]
     },
     "metadata": {},
     "output_type": "display_data"
    }
   ],
   "source": [
    "# Function to merge all trend layers\n",
    "def merge_trend_layers(ls_trends, rain_trend, sm_trend, rh_trend):\n",
    "    \"\"\"\n",
    "    Merge all trend layers into a single multi-band image.\n",
    "    \"\"\"\n",
    "    # Combine all trend layers\n",
    "    all_trends = ls_trends.addBands(rain_trend).addBands(sm_trend).addBands(rh_trend)\n",
    "    \n",
    "    return all_trends"
   ]
  },
  {
   "cell_type": "code",
   "execution_count": 13,
   "metadata": {},
   "outputs": [
    {
     "data": {
      "text/html": [
       "\n",
       "            <style>\n",
       "                .geemap-dark {\n",
       "                    --jp-widgets-color: white;\n",
       "                    --jp-widgets-label-color: white;\n",
       "                    --jp-ui-font-color1: white;\n",
       "                    --jp-layout-color2: #454545;\n",
       "                    background-color: #383838;\n",
       "                }\n",
       "\n",
       "                .geemap-dark .jupyter-button {\n",
       "                    --jp-layout-color3: #383838;\n",
       "                }\n",
       "\n",
       "                .geemap-colab {\n",
       "                    background-color: var(--colab-primary-surface-color, white);\n",
       "                }\n",
       "\n",
       "                .geemap-colab .jupyter-button {\n",
       "                    --jp-layout-color3: var(--colab-primary-surface-color, white);\n",
       "                }\n",
       "            </style>\n",
       "            "
      ],
      "text/plain": [
       "<IPython.core.display.HTML object>"
      ]
     },
     "metadata": {},
     "output_type": "display_data"
    }
   ],
   "source": [
    "# Function to export the trends to Google Earth Engine assets\n",
    "def export_to_asset(image, asset_name, region, description=None, scale=30):\n",
    "    \"\"\"\n",
    "    Export an image to a Google Earth Engine asset.\n",
    "    \"\"\"\n",
    "    if description is None:\n",
    "        description = asset_name.split('/')[-1]\n",
    "    \n",
    "    task = ee.batch.Export.image.toAsset(\n",
    "        image=image,\n",
    "        description=description,\n",
    "        assetId=asset_name,\n",
    "        region=region,\n",
    "        scale=scale,\n",
    "        maxPixels=1e13\n",
    "    )\n",
    "    \n",
    "    task.start()\n",
    "    print(f\"Started export task: {description}\")\n",
    "    return task"
   ]
  },
  {
   "cell_type": "code",
   "execution_count": 14,
   "metadata": {},
   "outputs": [
    {
     "data": {
      "text/html": [
       "\n",
       "            <style>\n",
       "                .geemap-dark {\n",
       "                    --jp-widgets-color: white;\n",
       "                    --jp-widgets-label-color: white;\n",
       "                    --jp-ui-font-color1: white;\n",
       "                    --jp-layout-color2: #454545;\n",
       "                    background-color: #383838;\n",
       "                }\n",
       "\n",
       "                .geemap-dark .jupyter-button {\n",
       "                    --jp-layout-color3: #383838;\n",
       "                }\n",
       "\n",
       "                .geemap-colab {\n",
       "                    background-color: var(--colab-primary-surface-color, white);\n",
       "                }\n",
       "\n",
       "                .geemap-colab .jupyter-button {\n",
       "                    --jp-layout-color3: var(--colab-primary-surface-color, white);\n",
       "                }\n",
       "            </style>\n",
       "            "
      ],
      "text/plain": [
       "<IPython.core.display.HTML object>"
      ]
     },
     "metadata": {},
     "output_type": "display_data"
    }
   ],
   "source": [
    "# Function to export the trends to Google Drive\n",
    "def export_to_drive(image, filename, region, description=None, folder='GEE_Exports', scale=30):\n",
    "    \"\"\"\n",
    "    Export an image to Google Drive.\n",
    "    \"\"\"\n",
    "    if description is None:\n",
    "        description = filename\n",
    "    \n",
    "    task = ee.batch.Export.image.toDrive(\n",
    "        image=image,\n",
    "        description=description,\n",
    "        folder=folder,\n",
    "        fileNamePrefix=filename,\n",
    "        region=region,\n",
    "        scale=scale,\n",
    "        maxPixels=1e13\n",
    "    )\n",
    "    \n",
    "    task.start()\n",
    "    print(f\"Started export task to Drive: {description}\")\n",
    "    return task"
   ]
  },
  {
   "cell_type": "code",
   "execution_count": 15,
   "metadata": {},
   "outputs": [
    {
     "data": {
      "text/html": [
       "\n",
       "            <style>\n",
       "                .geemap-dark {\n",
       "                    --jp-widgets-color: white;\n",
       "                    --jp-widgets-label-color: white;\n",
       "                    --jp-ui-font-color1: white;\n",
       "                    --jp-layout-color2: #454545;\n",
       "                    background-color: #383838;\n",
       "                }\n",
       "\n",
       "                .geemap-dark .jupyter-button {\n",
       "                    --jp-layout-color3: #383838;\n",
       "                }\n",
       "\n",
       "                .geemap-colab {\n",
       "                    background-color: var(--colab-primary-surface-color, white);\n",
       "                }\n",
       "\n",
       "                .geemap-colab .jupyter-button {\n",
       "                    --jp-layout-color3: var(--colab-primary-surface-color, white);\n",
       "                }\n",
       "            </style>\n",
       "            "
      ],
      "text/plain": [
       "<IPython.core.display.HTML object>"
      ]
     },
     "metadata": {},
     "output_type": "display_data"
    }
   ],
   "source": [
    "def export_to_local(image, filename, region, scale=30):\n",
    "    \"\"\"\n",
    "    Export an Earth Engine image to a local GeoTIFF file.\n",
    "    \"\"\"\n",
    "    print(f\"Exporting image to local file: {filename}\")\n",
    "    \n",
    "    # Get the image URL\n",
    "    url = image.getDownloadURL({\n",
    "        'scale': scale,\n",
    "        'region': region,\n",
    "        'format': 'GEO_TIFF',\n",
    "        'crs': 'EPSG:4326'\n",
    "    })\n",
    "    \n",
    "    # Download the file\n",
    "    import requests\n",
    "    import shutil\n",
    "    \n",
    "    response = requests.get(url, stream=True)\n",
    "    with open(filename, 'wb') as out_file:\n",
    "        shutil.copyfileobj(response.raw, out_file)\n",
    "    \n",
    "    print(f\"Exported to: {filename}\")"
   ]
  },
  {
   "cell_type": "code",
   "execution_count": 16,
   "metadata": {},
   "outputs": [
    {
     "data": {
      "text/html": [
       "\n",
       "            <style>\n",
       "                .geemap-dark {\n",
       "                    --jp-widgets-color: white;\n",
       "                    --jp-widgets-label-color: white;\n",
       "                    --jp-ui-font-color1: white;\n",
       "                    --jp-layout-color2: #454545;\n",
       "                    background-color: #383838;\n",
       "                }\n",
       "\n",
       "                .geemap-dark .jupyter-button {\n",
       "                    --jp-layout-color3: #383838;\n",
       "                }\n",
       "\n",
       "                .geemap-colab {\n",
       "                    background-color: var(--colab-primary-surface-color, white);\n",
       "                }\n",
       "\n",
       "                .geemap-colab .jupyter-button {\n",
       "                    --jp-layout-color3: var(--colab-primary-surface-color, white);\n",
       "                }\n",
       "            </style>\n",
       "            "
      ],
      "text/plain": [
       "<IPython.core.display.HTML object>"
      ]
     },
     "metadata": {},
     "output_type": "display_data"
    }
   ],
   "source": [
    "# Define date range to match JavaScript version\n",
    "start_date = '2013-03-20'\n",
    "end_date = '2023-02-28'"
   ]
  },
  {
   "cell_type": "code",
   "execution_count": 17,
   "metadata": {},
   "outputs": [
    {
     "data": {
      "text/html": [
       "\n",
       "            <style>\n",
       "                .geemap-dark {\n",
       "                    --jp-widgets-color: white;\n",
       "                    --jp-widgets-label-color: white;\n",
       "                    --jp-ui-font-color1: white;\n",
       "                    --jp-layout-color2: #454545;\n",
       "                    background-color: #383838;\n",
       "                }\n",
       "\n",
       "                .geemap-dark .jupyter-button {\n",
       "                    --jp-layout-color3: #383838;\n",
       "                }\n",
       "\n",
       "                .geemap-colab {\n",
       "                    background-color: var(--colab-primary-surface-color, white);\n",
       "                }\n",
       "\n",
       "                .geemap-colab .jupyter-button {\n",
       "                    --jp-layout-color3: var(--colab-primary-surface-color, white);\n",
       "                }\n",
       "            </style>\n",
       "            "
      ],
      "text/plain": [
       "<IPython.core.display.HTML object>"
      ]
     },
     "metadata": {},
     "output_type": "display_data"
    }
   ],
   "source": [
    "# Run Functions step by step\n",
    "# Get the Goa boundary\n",
    "goa = get_goa_boundary()"
   ]
  },
  {
   "cell_type": "code",
   "execution_count": 18,
   "metadata": {},
   "outputs": [
    {
     "data": {
      "text/html": [
       "\n",
       "            <style>\n",
       "                .geemap-dark {\n",
       "                    --jp-widgets-color: white;\n",
       "                    --jp-widgets-label-color: white;\n",
       "                    --jp-ui-font-color1: white;\n",
       "                    --jp-layout-color2: #454545;\n",
       "                    background-color: #383838;\n",
       "                }\n",
       "\n",
       "                .geemap-dark .jupyter-button {\n",
       "                    --jp-layout-color3: #383838;\n",
       "                }\n",
       "\n",
       "                .geemap-colab {\n",
       "                    background-color: var(--colab-primary-surface-color, white);\n",
       "                }\n",
       "\n",
       "                .geemap-colab .jupyter-button {\n",
       "                    --jp-layout-color3: var(--colab-primary-surface-color, white);\n",
       "                }\n",
       "            </style>\n",
       "            "
      ],
      "text/plain": [
       "<IPython.core.display.HTML object>"
      ]
     },
     "metadata": {},
     "output_type": "display_data"
    },
    {
     "name": "stdout",
     "output_type": "stream",
     "text": [
      "Your boundary area: 3684.89 sq km\n",
      "Official boundary area: 3684.89 sq km\n",
      "Difference area: 0.00 sq km\n",
      "Area difference percentage: 0.00%\n",
      "✅ Boundary looks correct\n"
     ]
    },
    {
     "data": {
      "application/vnd.jupyter.widget-view+json": {
       "model_id": "c1b7d175a111442982df4926ea046727",
       "version_major": 2,
       "version_minor": 0
      },
      "text/plain": [
       "Map(center=[15.358382593200234, 74.0587759202492], controls=(WidgetControl(options=['position', 'transparent_b…"
      ]
     },
     "metadata": {},
     "output_type": "display_data"
    }
   ],
   "source": [
    "def verify_goa_boundary(goa_geometry):\n",
    "    \"\"\"Verify if the provided geometry resembles Goa.\"\"\"\n",
    "    # Get official boundary\n",
    "    official = ee.FeatureCollection(\"FAO/GAUL/2015/level1\").filter(ee.Filter.eq('ADM1_NAME', 'Goa'))\n",
    "    official_geom = official.geometry()\n",
    "    \n",
    "    # Calculate areas\n",
    "    goa_area = goa_geometry.area().getInfo() / 1e6\n",
    "    official_area = official_geom.area().getInfo() / 1e6\n",
    "    diff_area = goa_geometry.symmetricDifference(official_geom).area().getInfo() / 1e6\n",
    "    \n",
    "    # Print verification info\n",
    "    print(f\"Your boundary area: {goa_area:.2f} sq km\")\n",
    "    print(f\"Official boundary area: {official_area:.2f} sq km\")\n",
    "    print(f\"Difference area: {diff_area:.2f} sq km\")\n",
    "    print(f\"Area difference percentage: {abs(goa_area - official_area) / official_area * 100:.2f}%\")\n",
    "    \n",
    "    # Visual verification\n",
    "    m = geemap.Map()\n",
    "    m.centerObject(goa_geometry, 9)\n",
    "    m.addLayer(goa_geometry, {'color': 'red'}, 'Your Goa Boundary')\n",
    "    m.addLayer(official_geom, {'color': 'blue'}, 'Official Goa Boundary')\n",
    "    \n",
    "    # Verdict\n",
    "    if abs(goa_area - official_area) / official_area < 0.05 and diff_area < 5:\n",
    "        print(\"✅ Boundary looks correct\")\n",
    "    else:\n",
    "        print(\"⚠️ Boundary may not be correct - significant difference from official boundary\")\n",
    "    \n",
    "    return m\n",
    "\n",
    "# Usage\n",
    "verification_map = verify_goa_boundary(goa)\n",
    "display(verification_map)"
   ]
  },
  {
   "cell_type": "code",
   "execution_count": 19,
   "metadata": {},
   "outputs": [
    {
     "data": {
      "text/html": [
       "\n",
       "            <style>\n",
       "                .geemap-dark {\n",
       "                    --jp-widgets-color: white;\n",
       "                    --jp-widgets-label-color: white;\n",
       "                    --jp-ui-font-color1: white;\n",
       "                    --jp-layout-color2: #454545;\n",
       "                    background-color: #383838;\n",
       "                }\n",
       "\n",
       "                .geemap-dark .jupyter-button {\n",
       "                    --jp-layout-color3: #383838;\n",
       "                }\n",
       "\n",
       "                .geemap-colab {\n",
       "                    background-color: var(--colab-primary-surface-color, white);\n",
       "                }\n",
       "\n",
       "                .geemap-colab .jupyter-button {\n",
       "                    --jp-layout-color3: var(--colab-primary-surface-color, white);\n",
       "                }\n",
       "            </style>\n",
       "            "
      ],
      "text/plain": [
       "<IPython.core.display.HTML object>"
      ]
     },
     "metadata": {},
     "output_type": "display_data"
    },
    {
     "name": "stdout",
     "output_type": "stream",
     "text": [
      "CRS: EPSG:4326\n",
      "Number of features: 6\n",
      "Columns: ['Shape_Leng', 'Shape_Area', 'Name', 'geometry']\n",
      "\n",
      "Attribute preview:\n",
      "   Shape_Leng  Shape_Area                 Name  \\\n",
      "0    1.735386    0.018797           Mhadei WLS   \n",
      "1    0.000000    0.000000  Bhagwan Mahavir WLS   \n",
      "2    0.000000    0.000000            Mollem NP   \n",
      "3    0.000000    0.000000  Bhagwan Mahavir WLS   \n",
      "4    0.000000    0.000000        Netravali WLS   \n",
      "\n",
      "                                            geometry  \n",
      "0  POLYGON Z ((74.09113 15.63933 0, 74.09146 15.6...  \n",
      "1  POLYGON Z ((74.18698 15.45582 0, 74.19093 15.4...  \n",
      "2  POLYGON Z ((74.23134 15.38431 0, 74.23145 15.3...  \n",
      "3  POLYGON Z ((74.25459 15.32841 0, 74.25493 15.3...  \n",
      "4  POLYGON Z ((74.20925 15.25191 0, 74.2092 15.25...  \n",
      "\n",
      "Total area: 0.00 square kilometers\n"
     ]
    },
    {
     "data": {
      "image/png": "[encoded data removed]",
      "text/plain": [
       "<Figure size 1000x1000 with 1 Axes>"
      ]
     },
     "metadata": {},
     "output_type": "display_data"
    }
   ],
   "source": [
    "# check shapefile:\n",
    "import geopandas as gpd\n",
    "import matplotlib.pyplot as plt\n",
    "import os\n",
    "\n",
    "# Path to the shapefile\n",
    "boundary_path = os.path.join('../data', 'pa_boundary.shp')\n",
    "\n",
    "# Check if the file exists\n",
    "if os.path.exists(boundary_path):\n",
    "    # Load the shapefile\n",
    "    boundary_gdf = gpd.read_file(boundary_path)\n",
    "    \n",
    "    # Print basic information\n",
    "    print(f\"CRS: {boundary_gdf.crs}\")\n",
    "    print(f\"Number of features: {len(boundary_gdf)}\")\n",
    "    print(f\"Columns: {boundary_gdf.columns.tolist()}\")\n",
    "    \n",
    "    # Display the first few rows to see attributes\n",
    "    print(\"\\nAttribute preview:\")\n",
    "    print(boundary_gdf.head())\n",
    "    \n",
    "    # Calculate the total area\n",
    "    area_sqkm = boundary_gdf.geometry.area.sum() / 1e6  # Convert to sq km if in meters\n",
    "    print(f\"\\nTotal area: {area_sqkm:.2f} square kilometers\")\n",
    "    \n",
    "    # Plot the shapefile\n",
    "    fig, ax = plt.subplots(figsize=(10, 10))\n",
    "    boundary_gdf.plot(ax=ax)\n",
    "    ax.set_title('Contents of pa_boundary.shp')\n",
    "    plt.show()\n",
    "    \n",
    "    # Check if it might be a protected area boundary\n",
    "    if 'name' in boundary_gdf.columns or 'NAME' in boundary_gdf.columns:\n",
    "        name_col = 'name' if 'name' in boundary_gdf.columns else 'NAME'\n",
    "        print(f\"\\nNames of areas in the shapefile:\")\n",
    "        print(boundary_gdf[name_col].unique())\n",
    "else:\n",
    "    print(f\"Shapefile not found at {boundary_path}\")"
   ]
  },
  {
   "cell_type": "code",
   "execution_count": 20,
   "metadata": {},
   "outputs": [
    {
     "data": {
      "text/html": [
       "\n",
       "            <style>\n",
       "                .geemap-dark {\n",
       "                    --jp-widgets-color: white;\n",
       "                    --jp-widgets-label-color: white;\n",
       "                    --jp-ui-font-color1: white;\n",
       "                    --jp-layout-color2: #454545;\n",
       "                    background-color: #383838;\n",
       "                }\n",
       "\n",
       "                .geemap-dark .jupyter-button {\n",
       "                    --jp-layout-color3: #383838;\n",
       "                }\n",
       "\n",
       "                .geemap-colab {\n",
       "                    background-color: var(--colab-primary-surface-color, white);\n",
       "                }\n",
       "\n",
       "                .geemap-colab .jupyter-button {\n",
       "                    --jp-layout-color3: var(--colab-primary-surface-color, white);\n",
       "                }\n",
       "            </style>\n",
       "            "
      ],
      "text/plain": [
       "<IPython.core.display.HTML object>"
      ]
     },
     "metadata": {},
     "output_type": "display_data"
    },
    {
     "name": "stdout",
     "output_type": "stream",
     "text": [
      "Processing Landsat 8 data for 2013-03-20 to 2023-02-28...\n",
      "Calculating trend for ndvi...\n",
      "Calculating trend for evi...\n",
      "Calculating trend for msavi...\n",
      "Calculating trend for mirbi...\n",
      "Calculating trend for ndmi...\n",
      "Calculating trend for ndfi...\n",
      "Calculating trend for nbr...\n",
      "Calculating trend for nbr2...\n",
      "Calculating trend for bsi...\n",
      "Landsat trend calculation complete.\n"
     ]
    }
   ],
   "source": [
    "# Process Landsat 8 data and calculate trends\n",
    "ls_trends, ls_collection = process_landsat_trends(goa, start_date, end_date)\n"
   ]
  },
  {
   "cell_type": "code",
   "execution_count": 21,
   "metadata": {},
   "outputs": [
    {
     "data": {
      "text/html": [
       "\n",
       "            <style>\n",
       "                .geemap-dark {\n",
       "                    --jp-widgets-color: white;\n",
       "                    --jp-widgets-label-color: white;\n",
       "                    --jp-ui-font-color1: white;\n",
       "                    --jp-layout-color2: #454545;\n",
       "                    background-color: #383838;\n",
       "                }\n",
       "\n",
       "                .geemap-dark .jupyter-button {\n",
       "                    --jp-layout-color3: #383838;\n",
       "                }\n",
       "\n",
       "                .geemap-colab {\n",
       "                    background-color: var(--colab-primary-surface-color, white);\n",
       "                }\n",
       "\n",
       "                .geemap-colab .jupyter-button {\n",
       "                    --jp-layout-color3: var(--colab-primary-surface-color, white);\n",
       "                }\n",
       "            </style>\n",
       "            "
      ],
      "text/plain": [
       "<IPython.core.display.HTML object>"
      ]
     },
     "metadata": {},
     "output_type": "display_data"
    },
    {
     "name": "stdout",
     "output_type": "stream",
     "text": [
      "Processing CHIRPS precipitation data and calculating trends...\n",
      "Processing SMAP soil moisture data and calculating trends...\n",
      "Processing ERA5 data for 2013-03-20 to 2023-02-28...\n",
      "Available ERA5 bands: ['mean_2m_air_temperature', 'minimum_2m_air_temperature', 'maximum_2m_air_temperature', 'dewpoint_2m_temperature', 'total_precipitation', 'surface_pressure', 'mean_sea_level_pressure', 'u_component_of_wind_10m', 'v_component_of_wind_10m']\n",
      "ERA5 RH trend calculation complete.\n"
     ]
    }
   ],
   "source": [
    "# Process CHIRPS precipitation data and calculate trends\n",
    "rain_trend, rain_collection = process_chirps_trends(goa, start_date, end_date)\n",
    "    \n",
    "# Process SMAP soil moisture data (starts from April 2015)\n",
    "sm_trend, sm_collection = process_smap_trends(goa, '2015-04-01', end_date)\n",
    "    \n",
    "# Process ERA5 data for relative humidity trends\n",
    "rh_trend, rh_collection = process_era5_trends(goa, start_date, end_date)"
   ]
  },
  {
   "cell_type": "code",
   "execution_count": 22,
   "metadata": {},
   "outputs": [
    {
     "data": {
      "text/html": [
       "\n",
       "            <style>\n",
       "                .geemap-dark {\n",
       "                    --jp-widgets-color: white;\n",
       "                    --jp-widgets-label-color: white;\n",
       "                    --jp-ui-font-color1: white;\n",
       "                    --jp-layout-color2: #454545;\n",
       "                    background-color: #383838;\n",
       "                }\n",
       "\n",
       "                .geemap-dark .jupyter-button {\n",
       "                    --jp-layout-color3: #383838;\n",
       "                }\n",
       "\n",
       "                .geemap-colab {\n",
       "                    background-color: var(--colab-primary-surface-color, white);\n",
       "                }\n",
       "\n",
       "                .geemap-colab .jupyter-button {\n",
       "                    --jp-layout-color3: var(--colab-primary-surface-color, white);\n",
       "                }\n",
       "            </style>\n",
       "            "
      ],
      "text/plain": [
       "<IPython.core.display.HTML object>"
      ]
     },
     "metadata": {},
     "output_type": "display_data"
    }
   ],
   "source": [
    "    # Merge all trend layers\n",
    "all_trends = merge_trend_layers(ls_trends, rain_trend, sm_trend, rh_trend)"
   ]
  },
  {
   "cell_type": "code",
   "execution_count": 23,
   "metadata": {},
   "outputs": [
    {
     "data": {
      "text/html": [
       "\n",
       "            <style>\n",
       "                .geemap-dark {\n",
       "                    --jp-widgets-color: white;\n",
       "                    --jp-widgets-label-color: white;\n",
       "                    --jp-ui-font-color1: white;\n",
       "                    --jp-layout-color2: #454545;\n",
       "                    background-color: #383838;\n",
       "                }\n",
       "\n",
       "                .geemap-dark .jupyter-button {\n",
       "                    --jp-layout-color3: #383838;\n",
       "                }\n",
       "\n",
       "                .geemap-colab {\n",
       "                    background-color: var(--colab-primary-surface-color, white);\n",
       "                }\n",
       "\n",
       "                .geemap-colab .jupyter-button {\n",
       "                    --jp-layout-color3: var(--colab-primary-surface-color, white);\n",
       "                }\n",
       "            </style>\n",
       "            "
      ],
      "text/plain": [
       "<IPython.core.display.HTML object>"
      ]
     },
     "metadata": {},
     "output_type": "display_data"
    }
   ],
   "source": [
    "# Resample to match JavaScript output\n",
    "all_trends_resampled = resample_image(all_trends)"
   ]
  },
  {
   "cell_type": "code",
   "execution_count": 24,
   "metadata": {},
   "outputs": [
    {
     "data": {
      "text/html": [
       "\n",
       "            <style>\n",
       "                .geemap-dark {\n",
       "                    --jp-widgets-color: white;\n",
       "                    --jp-widgets-label-color: white;\n",
       "                    --jp-ui-font-color1: white;\n",
       "                    --jp-layout-color2: #454545;\n",
       "                    background-color: #383838;\n",
       "                }\n",
       "\n",
       "                .geemap-dark .jupyter-button {\n",
       "                    --jp-layout-color3: #383838;\n",
       "                }\n",
       "\n",
       "                .geemap-colab {\n",
       "                    background-color: var(--colab-primary-surface-color, white);\n",
       "                }\n",
       "\n",
       "                .geemap-colab .jupyter-button {\n",
       "                    --jp-layout-color3: var(--colab-primary-surface-color, white);\n",
       "                }\n",
       "            </style>\n",
       "            "
      ],
      "text/plain": [
       "<IPython.core.display.HTML object>"
      ]
     },
     "metadata": {},
     "output_type": "display_data"
    }
   ],
   "source": [
    "#export_to_local(all_trends_resampled, \"..data/inputResampled_py.tif\", goa)"
   ]
  },
  {
   "cell_type": "code",
   "execution_count": 25,
   "metadata": {},
   "outputs": [
    {
     "data": {
      "text/html": [
       "\n",
       "            <style>\n",
       "                .geemap-dark {\n",
       "                    --jp-widgets-color: white;\n",
       "                    --jp-widgets-label-color: white;\n",
       "                    --jp-ui-font-color1: white;\n",
       "                    --jp-layout-color2: #454545;\n",
       "                    background-color: #383838;\n",
       "                }\n",
       "\n",
       "                .geemap-dark .jupyter-button {\n",
       "                    --jp-layout-color3: #383838;\n",
       "                }\n",
       "\n",
       "                .geemap-colab {\n",
       "                    background-color: var(--colab-primary-surface-color, white);\n",
       "                }\n",
       "\n",
       "                .geemap-colab .jupyter-button {\n",
       "                    --jp-layout-color3: var(--colab-primary-surface-color, white);\n",
       "                }\n",
       "            </style>\n",
       "            "
      ],
      "text/plain": [
       "<IPython.core.display.HTML object>"
      ]
     },
     "metadata": {},
     "output_type": "display_data"
    },
    {
     "name": "stdout",
     "output_type": "stream",
     "text": [
      "Started export task: goa_fire_trends\n"
     ]
    },
    {
     "data": {
      "text/plain": [
       "<Task MHOURBZQPCJAX6USYD6A5LR3 Type.EXPORT_IMAGE: goa_fire_trends (State.UNSUBMITTED)>"
      ]
     },
     "execution_count": 25,
     "metadata": {},
     "output_type": "execute_result"
    }
   ],
   "source": [
    "user_asset_root = 'users/jonasnothnagel/'  # Replace with your actual EE username\n",
    "export_to_asset(all_trends_resampled, f\"{user_asset_root}goa_fire_trends\", goa, \"goa_fire_trends\")"
   ]
  },
  {
   "cell_type": "code",
   "execution_count": null,
   "metadata": {},
   "outputs": [],
   "source": []
  }
 ],
 "metadata": {
  "kernelspec": {
   "display_name": "ee",
   "language": "python",
   "name": "python3"
  },
  "language_info": {
   "codemirror_mode": {
    "name": "ipython",
    "version": 3
   },
   "file_extension": ".py",
   "mimetype": "text/x-python",
   "name": "python",
   "nbconvert_exporter": "python",
   "pygments_lexer": "ipython3",
   "version": "3.13.1"
  }
 },
 "nbformat": 4,
 "nbformat_minor": 2
}
